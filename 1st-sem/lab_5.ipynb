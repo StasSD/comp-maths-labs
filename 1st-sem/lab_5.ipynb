{
 "cells": [
  {
   "cell_type": "markdown",
   "id": "a61c747e",
   "metadata": {},
   "source": [
    "# Численное интегрирование"
   ]
  },
  {
   "cell_type": "markdown",
   "id": "481f5f08",
   "metadata": {},
   "source": [
    "## Импорт библиотек"
   ]
  },
  {
   "cell_type": "code",
   "execution_count": 19,
   "id": "9bb9bb58",
   "metadata": {},
   "outputs": [],
   "source": [
    "import numpy as np\n",
    "import matplotlib.pyplot as plt"
   ]
  },
  {
   "cell_type": "markdown",
   "id": "19377db9",
   "metadata": {},
   "source": [
    "## Задание условий"
   ]
  },
  {
   "cell_type": "code",
   "execution_count": 20,
   "id": "5e44ddca",
   "metadata": {},
   "outputs": [],
   "source": [
    "x = np.array([0, 0.125, 0.25, 0.375, 0.5, 0.625, 0.75, 0.875, 1])\n",
    "y = np.array([0.000000, 0.124670, 0.247234, 0.364902, 0.473112, 0.563209, 0.616193, 0.579699, 0.000000])\n",
    "h = 0.125"
   ]
  },
  {
   "cell_type": "markdown",
   "id": "7c05fcdb",
   "metadata": {},
   "source": [
    "## Метод трапеций"
   ]
  },
  {
   "cell_type": "code",
   "execution_count": 21,
   "id": "2a0756af",
   "metadata": {},
   "outputs": [
    {
     "name": "stdout",
     "output_type": "stream",
     "text": [
      "Интеграл по методу трапеций:\n",
      "0.371127375\n"
     ]
    }
   ],
   "source": [
    "def trapezoid(x, y, h):\n",
    "    I = 0\n",
    "    for i in range(len(x) - 1):\n",
    "        I += h / 2.0 * (y[i + 1] + y[i])\n",
    "    return I\n",
    "\n",
    "I_tr = trapezoid(x, y, h)\n",
    "print('Интеграл по методу трапеций:')\n",
    "print(I_tr)\n"
   ]
  },
  {
   "cell_type": "markdown",
   "id": "0f08f776",
   "metadata": {},
   "source": [
    "## Уточнение методом Симпсона"
   ]
  },
  {
   "cell_type": "code",
   "execution_count": 22,
   "id": "31527bb1",
   "metadata": {},
   "outputs": [
    {
     "name": "stdout",
     "output_type": "stream",
     "text": [
      "Интеграл по Симпсону:\n",
      "0.3834582499999999\n"
     ]
    }
   ],
   "source": [
    "def simpson(x, y, h):\n",
    "    I = 0\n",
    "    for i in range(int(len(x) / 2)):\n",
    "        I +=  h / 3.0 * (y[2 * i] + 4 * y[2 * i + 1] + y[2 * i + 2])\n",
    "    return I\n",
    "\n",
    "I_smp = simpson(x, y, h)\n",
    "print('Интеграл по Симпсону:')\n",
    "print(I_smp)"
   ]
  },
  {
   "cell_type": "markdown",
   "id": "68904521",
   "metadata": {},
   "source": [
    "## Экстраполяция Ричардсона"
   ]
  },
  {
   "cell_type": "code",
   "execution_count": 24,
   "id": "8680ad99",
   "metadata": {},
   "outputs": [
    {
     "name": "stdout",
     "output_type": "stream",
     "text": [
      "I(h):\n",
      "0.33413475\n",
      "I(h / 2):\n",
      "0.371127375\n",
      "С Экстраполяцией Ричардсона:\n",
      "0.38345825\n"
     ]
    }
   ],
   "source": [
    "\n",
    "x_1 = np.array([x[i] for i in range(len(x)) if i % 2 == 0])\n",
    "y_1 = np.array([y[i] for i in range(len(y)) if i % 2 == 0])\n",
    "\n",
    "I_1 = trapezoid(x_1, y_1, 2 * h) # h\n",
    "print('I(h):')\n",
    "print(I_1)\n",
    "\n",
    "I_0 = trapezoid(x, y, h) # h / 2\n",
    "print('I(h / 2):')\n",
    "print(I_0)\n",
    "\n",
    "I = I_0 + (I_0 - I_1) / 3.0\n",
    "\n",
    "print('С Экстраполяцией Ричардсона:')\n",
    "print(I)\n"
   ]
  },
  {
   "cell_type": "markdown",
   "id": "904cb1a9",
   "metadata": {},
   "source": [
    "## Вывод"
   ]
  },
  {
   "cell_type": "markdown",
   "id": "52603595",
   "metadata": {},
   "source": [
    "Метод трапеций с шагом h и 2h совпал с значениями интеграла в задачнике, кроме того, интеграл, посчитанный по методу Симпсона, совпадает с экстраполяцией Ричардсона для т"
   ]
  }
 ],
 "metadata": {
  "kernelspec": {
   "display_name": "Python 3 (ipykernel)",
   "language": "python",
   "name": "python3"
  },
  "language_info": {
   "codemirror_mode": {
    "name": "ipython",
    "version": 3
   },
   "file_extension": ".py",
   "mimetype": "text/x-python",
   "name": "python",
   "nbconvert_exporter": "python",
   "pygments_lexer": "ipython3",
   "version": "3.9.5"
  }
 },
 "nbformat": 4,
 "nbformat_minor": 5
}
