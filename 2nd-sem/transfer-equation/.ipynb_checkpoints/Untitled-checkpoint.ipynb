{
 "cells": [
  {
   "cell_type": "markdown",
   "id": "85bb7b9d",
   "metadata": {},
   "source": [
    "# Лабораторная работа №6\n",
    "\n",
    "# Решение уравнения переноса"
   ]
  },
  {
   "cell_type": "markdown",
   "id": "70d54930",
   "metadata": {},
   "source": [
    "## Импорт необходимых библиотек"
   ]
  },
  {
   "cell_type": "code",
   "execution_count": 1,
   "id": "394a9200",
   "metadata": {},
   "outputs": [],
   "source": [
    "import numpy as np              \n",
    "import matplotlib.pyplot as plt\n",
    "from mpl_toolkits.mplot3d import Axes3D\n",
    "import pprint"
   ]
  },
  {
   "cell_type": "markdown",
   "id": "ee552297",
   "metadata": {},
   "source": [
    "## Инициализация начальных данных, заполнение сетки"
   ]
  },
  {
   "cell_type": "code",
   "execution_count": null,
   "id": "03c2334b",
   "metadata": {},
   "outputs": [],
   "source": [
    "\n",
    "\n",
    "int main(int argc, char** argv) {\n",
    "\n",
    "    std::size_t K, M;\n",
    "    gtype tau, h; \n",
    "\n",
    "    K = std::atoi(argv[1]);\n",
    "    M = std::atoi(argv[2]);\n",
    "    tau = std::atof(argv[3]);\n",
    "    h = std::atof(argv[4]);\n",
    "\n",
    "#ifdef TIME\n",
    "    auto start = std::chrono::steady_clock::now();\n",
    "#endif\n",
    "    matrix::matrix_t<gtype> grid(K, M);\n",
    "\n",
    "    initGrid(grid, tau, h);\n",
    "    initLayer(grid, tau, h);\n",
    "        \n",
    "    for(std::size_t i = 1; i < K - 1; ++i) {\n",
    "        for(std::size_t j = 1; j < M - 1; ++j) {\n",
    "            krest(grid, K - 1 - i, j, tau, h);\n",
    "        }\n",
    "        angle(grid, K - 1 - i, M - 1, tau, h);\n",
    "    }\n",
    "\n",
    "#ifdef TIME\n",
    "    auto end = std::chrono::steady_clock::now();\n",
    "    std::chrono::duration<double> elapsed_seconds = end-start;\n",
    "    std::cout << \"elapsed time: \" << elapsed_seconds.count() << \"s\\n\";\n",
    "#endif\n",
    "\n",
    "#ifdef DUMP    \n",
    "    for(std::size_t i = K - 2; i > 0; --i) {\n",
    "        for(std::size_t j = 1; j < M - 1; ++j) {\n",
    "            std::cout << std::setw(10) << grid[i][j];\n",
    "        }\n",
    "        std::cout << std::endl;\n",
    "    }\n",
    "#endif\n",
    "}\n"
   ]
  },
  {
   "cell_type": "code",
   "execution_count": null,
   "id": "fe96be1d",
   "metadata": {},
   "outputs": [],
   "source": []
  },
  {
   "cell_type": "code",
   "execution_count": null,
   "id": "715b2e8c",
   "metadata": {},
   "outputs": [],
   "source": []
  },
  {
   "cell_type": "code",
   "execution_count": null,
   "id": "5e5f30eb",
   "metadata": {},
   "outputs": [],
   "source": []
  }
 ],
 "metadata": {
  "kernelspec": {
   "display_name": "Python 3 (ipykernel)",
   "language": "python",
   "name": "python3"
  },
  "language_info": {
   "codemirror_mode": {
    "name": "ipython",
    "version": 3
   },
   "file_extension": ".py",
   "mimetype": "text/x-python",
   "name": "python",
   "nbconvert_exporter": "python",
   "pygments_lexer": "ipython3",
   "version": "3.9.5"
  }
 },
 "nbformat": 4,
 "nbformat_minor": 5
}
