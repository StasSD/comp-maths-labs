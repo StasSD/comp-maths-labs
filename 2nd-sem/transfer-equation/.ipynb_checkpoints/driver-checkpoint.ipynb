{
 "cells": [
  {
   "cell_type": "code",
   "execution_count": 1,
   "id": "e377cb5f",
   "metadata": {},
   "outputs": [],
   "source": [
    "import numpy as np\n",
    "import matplotlib.pyplot as plt\n",
    "import re"
   ]
  },
  {
   "cell_type": "code",
   "execution_count": 2,
   "id": "bd88aefd",
   "metadata": {},
   "outputs": [],
   "source": [
    "tau = 0.01\n",
    "h   = 0.01\n",
    "\n",
    "tests_ranges = np.linspace(100, 1000, num=100)\n"
   ]
  },
  {
   "cell_type": "code",
   "execution_count": 3,
   "id": "f972046b",
   "metadata": {},
   "outputs": [],
   "source": [
    "\n",
    "# run tests on sequential and parallel versions\n",
    "def run_tests():\n",
    "    \n",
    "    sequential = np.zeros(tests_ranges.size)\n",
    "    parallel4 = np.zeros(tests_ranges.size)\n",
    "\n",
    "    for i in range(tests_ranges.size):\n",
    "        K = M = tests_ranges[i]\n",
    "\n",
    "        # execute sequential algo\n",
    "        out = !./sequential.out {K} {M} {tau} {h}\n",
    "        regexMatch = re.search(\"\\d+\\.\\d+(e-\\d+)*\", out[0])\n",
    "        sequential[i] = regexMatch[0]\n",
    "\n",
    "        # execute parallel algo\n",
    "        out = !mpirun  -np 4  --use-hwthread-cpus ./parallel.out {K} {M} {tau} {h}\n",
    "        regexMatch = re.search(\"\\d+\\.\\d+(e-\\d+)*\", out[0])\n",
    "        parallel4[i] = regexMatch[0]\n"
   ]
  },
  {
   "cell_type": "code",
   "execution_count": 4,
   "id": "edf5c7c4",
   "metadata": {
    "scrolled": true
   },
   "outputs": [],
   "source": [
    "\n",
    "def plot_results():\n",
    "    \n",
    "    plt.figure(figsize = [16, 9])\n",
    "    \n",
    "    plt.title(label = 'time(num_of_elements)')\n",
    "    plt.xlabel(\"grid_size\")\n",
    "    plt.ylabel(\"time, s\")\n",
    "    \n",
    "    plt.plot(tests_ranges, sequential, label=\"naive\")\n",
    "    plt.plot(tests_ranges, parallel4, label=\"parallel with N = 4\")\n",
    "    \n",
    "    plt.tight_layout() \n",
    "    plt.legend()\n",
    "    plt.grid()\n",
    "    plt.show()\n",
    "    \n"
   ]
  },
  {
   "cell_type": "code",
   "execution_count": 5,
   "id": "7daf125f",
   "metadata": {},
   "outputs": [],
   "source": [
    "# time values = 50, max time = 1000\n",
    "tests_ranges = np.linspace(100, 1000, num=50)\n",
    "\n",
    "run_tests()\n",
    "plot_results()\n",
    "\n"
   ]
  },
  {
   "cell_type": "code",
   "execution_count": null,
   "id": "63cf0cb9",
   "metadata": {},
   "outputs": [],
   "source": [
    "# time values = 100, max time = 1000\n",
    "tests_ranges = np.linspace(100, 1000, num=50)\n",
    "\n"
   ]
  },
  {
   "cell_type": "code",
   "execution_count": null,
   "id": "688aaf38",
   "metadata": {},
   "outputs": [],
   "source": [
    "# time values = 100, max time = 2000\n",
    "tests_ranges = np.linspace(100, 1000, num=100)\n",
    "\n"
   ]
  },
  {
   "cell_type": "code",
   "execution_count": null,
   "id": "ea0595d3",
   "metadata": {},
   "outputs": [],
   "source": [
    "# increased time step\n",
    "\n",
    "tests_ranges = np.linspace(100, 1000, num=100)\n",
    "\n"
   ]
  },
  {
   "cell_type": "code",
   "execution_count": null,
   "id": "d1de6625",
   "metadata": {},
   "outputs": [],
   "source": []
  }
 ],
 "metadata": {
  "kernelspec": {
   "display_name": "Python 3 (ipykernel)",
   "language": "python",
   "name": "python3"
  },
  "language_info": {
   "codemirror_mode": {
    "name": "ipython",
    "version": 3
   },
   "file_extension": ".py",
   "mimetype": "text/x-python",
   "name": "python",
   "nbconvert_exporter": "python",
   "pygments_lexer": "ipython3",
   "version": "3.9.5"
  }
 },
 "nbformat": 4,
 "nbformat_minor": 5
}
