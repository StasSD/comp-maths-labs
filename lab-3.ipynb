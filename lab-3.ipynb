{
 "cells": [
  {
   "cell_type": "markdown",
   "id": "d385f6d5",
   "metadata": {},
   "source": [
    "# Импорт библиотек"
   ]
  },
  {
   "cell_type": "code",
   "execution_count": 166,
   "id": "635a17a0",
   "metadata": {},
   "outputs": [],
   "source": [
    "import numpy as np\n",
    "from sympy import Poly\n",
    "from sympy.abc import y\n",
    "import matplotlib.pyplot as plt\n",
    "from sympy import plotting\n",
    "from sympy import symbols\n",
    "from scipy import interpolate"
   ]
  },
  {
   "cell_type": "markdown",
   "id": "c6d23987",
   "metadata": {},
   "source": [
    "# 1) Решение методом неопределенных коэффициентов"
   ]
  },
  {
   "cell_type": "markdown",
   "id": "d59c92b1",
   "metadata": {},
   "source": [
    "## Задание матрицы для СЛАУ и значений функции в точках"
   ]
  },
  {
   "cell_type": "markdown",
   "id": "2ee73d8c",
   "metadata": {},
   "source": [
    "### В условии задачи даны значения функции в пяти точках. Зададим эти точки, также зададим матрицу для нахождения коэффициентов"
   ]
  },
  {
   "cell_type": "code",
   "execution_count": 108,
   "id": "3332757d",
   "metadata": {},
   "outputs": [],
   "source": [
    "x = np.array([0, 1, 3, 4, 5])\n",
    "f = np.array([0.5, 0.3, 0.3, 0.2, 0.1])\n",
    "point = 5\n",
    "# Шаг принимаем единичный\n",
    "h = 1\n",
    "\n",
    "A = np.array([[1, 1, 1, 1, 1],\n",
    "              [-3, -2, -1, 0, 1],\n",
    "              [9, 4, 1, 0, 1],    \n",
    "              [-27, -8, -1, 0, 1],\n",
    "              [81, 16, 1, 0, 1]])\n",
    "\n",
    "b = np.array([0, 1, 0, 0, 0])\n"
   ]
  },
  {
   "cell_type": "markdown",
   "id": "5d15160a",
   "metadata": {},
   "source": [
    "## Вычисление коэффициентов"
   ]
  },
  {
   "cell_type": "code",
   "execution_count": 109,
   "id": "ca3a2f0e",
   "metadata": {},
   "outputs": [
    {
     "name": "stdout",
     "output_type": "stream",
     "text": [
      "Вычисленные коэффициенты:\n",
      "[-0.08333333  0.5        -1.5         0.83333333  0.25      ]\n"
     ]
    }
   ],
   "source": [
    "coefficients = np.linalg.inv(A).dot(b)\n",
    "\n",
    "print('Вычисленные коэффициенты:')\n",
    "print(coefficients)"
   ]
  },
  {
   "cell_type": "markdown",
   "id": "84c82e0f",
   "metadata": {},
   "source": [
    "## Вычисление производной с помощью неопределенных коэффициентов"
   ]
  },
  {
   "cell_type": "code",
   "execution_count": 110,
   "id": "c2e29222",
   "metadata": {},
   "outputs": [
    {
     "name": "stdout",
     "output_type": "stream",
     "text": [
      "-0.175\n"
     ]
    }
   ],
   "source": [
    "def derivative_coefficients(f, h, coefficients):\n",
    "    f_derivative = 0\n",
    "    for i in range(len(coefficients) - 1):\n",
    "        f_derivative += coefficients[i] * f[i]\n",
    "        \n",
    "    return 1.0 * f_derivative / h\n",
    "    \n",
    "f_derivative_with_coefficients = derivative_coefficients(f, h, coefficients)\n",
    "print(f_derivative_with_coefficients)"
   ]
  },
  {
   "cell_type": "markdown",
   "id": "f360fcec",
   "metadata": {},
   "source": [
    "# 2) Решение методом интерполяции"
   ]
  },
  {
   "cell_type": "markdown",
   "id": "4c5ae964",
   "metadata": {},
   "source": [
    "## Построение таблицы разделенных разностей"
   ]
  },
  {
   "cell_type": "code",
   "execution_count": 111,
   "id": "9d44cc9d",
   "metadata": {
    "scrolled": false
   },
   "outputs": [
    {
     "name": "stdout",
     "output_type": "stream",
     "text": [
      "[0.5 0.3 0.3 0.2 0.1]\n",
      "[-0.2, 0.0, -0.09999999999999998, -0.1]\n",
      "[0.06666666666666667, -0.033333333333333326, -1.3877787807814457e-17]\n",
      "[-0.024999999999999998, 0.008333333333333328]\n",
      "[0.006666666666666665]\n"
     ]
    }
   ],
   "source": [
    "class DifferenceTable:\n",
    "    def __init__(self, f, x):\n",
    "        self.length = len(f)\n",
    "        self.b_0 = f.copy()\n",
    "        self.b_1 = [(self.b_0[i + 1] - self.b_0[i]) / (x[i + 1] - x[i]) for i in range(self.length - 1) if i < 4]\n",
    "        self.b_2 = [(self.b_1[i + 1] - self.b_1[i]) / (x[i + 2] - x[i]) for i in range(self.length - 1) if i < 3]\n",
    "        self.b_3 = [(self.b_2[i + 1] - self.b_2[i]) / (x[i + 3] - x[i]) for i in range(self.length - 1) if i < 2]\n",
    "        self.b_4 = [(self.b_3[i + 1] - self.b_3[i]) / (x[i + 4] - x[i]) for i in range(self.length - 1) if i < 1]\n",
    "        \n",
    "        self.columns = []\n",
    "        self.columns.append(self.b_0)\n",
    "        self.columns.append(self.b_1)\n",
    "        self.columns.append(self.b_2)\n",
    "        self.columns.append(self.b_3)\n",
    "        self.columns.append(self.b_4)\n",
    "        \n",
    "    def show(self):\n",
    "        for column in self.columns:\n",
    "            print(column)\n",
    "        \n",
    "    def get_coefficients_low(self):\n",
    "        return [column[-1] for column in self.columns]\n",
    "        \n",
    "table = DifferenceTable(f, x)\n",
    "table.show()"
   ]
  },
  {
   "cell_type": "markdown",
   "id": "11a33bc6",
   "metadata": {},
   "source": [
    "## Построение многочлена и вычисление от него производной"
   ]
  },
  {
   "cell_type": "code",
   "execution_count": 112,
   "id": "33ba6bcd",
   "metadata": {},
   "outputs": [
    {
     "name": "stdout",
     "output_type": "stream",
     "text": [
      "[0.1, -0.1, -1.3877787807814457e-17, 0.008333333333333328, 0.006666666666666665]\n"
     ]
    }
   ],
   "source": [
    "coefficients = table.get_coefficients_low()\n",
    "print(coefficients)\n",
    "\n",
    "poly = Poly(coefficients[0] + coefficients[1] * (y - x[4]) +\n",
    "            coefficients[2] * (y - x[4]) * (y - x[3]) + \n",
    "            coefficients[3] * (y - x[4]) * (y - x[3]) * (y - x[2]) +\n",
    "            coefficients[4] * (y - x[4]) * (y - x[3]) * (y - x[2]) * (y - x[1]))\n",
    "\n",
    "poly\n",
    "\n",
    "t = symbols('t')\n",
    "poly_as_func = 0.00666666666666667 * t**4 - 0.0783333333333333 * t**3 + 0.293333333333333 * t**2 - 0.421666666666667 * t + 0.5"
   ]
  },
  {
   "cell_type": "code",
   "execution_count": 113,
   "id": "4f115872",
   "metadata": {},
   "outputs": [
    {
     "data": {
      "text/latex": [
       "$\\displaystyle \\operatorname{Poly}{\\left( 0.0266666666666667 y^{3} - 0.235 y^{2} + 0.586666666666667 y - 0.421666666666667, y, domain=\\mathbb{R} \\right)}$"
      ],
      "text/plain": [
       "Poly(0.0266666666666667*y**3 - 0.235*y**2 + 0.586666666666667*y - 0.421666666666667, y, domain='RR')"
      ]
     },
     "execution_count": 113,
     "metadata": {},
     "output_type": "execute_result"
    }
   ],
   "source": [
    "differentiated = poly.diff()\n",
    "differentiated"
   ]
  },
  {
   "cell_type": "code",
   "execution_count": 114,
   "id": "690d7c20",
   "metadata": {},
   "outputs": [
    {
     "name": "stdout",
     "output_type": "stream",
     "text": [
      "-0.0299999999999986\n"
     ]
    }
   ],
   "source": [
    "print(differentiated(point))"
   ]
  },
  {
   "cell_type": "markdown",
   "id": "6bf76bd1",
   "metadata": {},
   "source": [
    "## Немного графики"
   ]
  },
  {
   "cell_type": "code",
   "execution_count": 115,
   "id": "69344c47",
   "metadata": {},
   "outputs": [
    {
     "data": {
      "image/png": "[encoded data removed]",
      "text/plain": [
       "<Figure size 432x288 with 1 Axes>"
      ]
     },
     "metadata": {
      "needs_background": "light"
     },
     "output_type": "display_data"
    }
   ],
   "source": [
    "\n",
    "plot = plotting.plot(poly_as_func, (t, 0, 5), ylim = [0, 0.6], axis_center = (0, 0))\n"
   ]
  },
  {
   "cell_type": "markdown",
   "id": "6beff457",
   "metadata": {},
   "source": [
    "# 3) Вычисление с помощью сплайн-интерполяции"
   ]
  },
  {
   "cell_type": "code",
   "execution_count": 174,
   "id": "789167c6",
   "metadata": {},
   "outputs": [
    {
     "name": "stdout",
     "output_type": "stream",
     "text": [
      "[ 3.33066907e-17 -2.00000000e-01  5.00000000e-01  1.00000000e-01\n",
      " -4.00000000e-01  6.00000000e-01 -3.00000000e-01  2.00000000e+00\n",
      " -3.00000000e+00  3.00000000e-01 -2.80000000e+00  6.60000000e+00]\n",
      "0.5 - 0.2·x¹ + 3.3306690738754695e-17·x²\n",
      "0.5999999999999999 - 0.3999999999999998·x¹ + 0.09999999999999991·x²\n",
      "-2.999999999999999 + 1.9999999999999987·x¹ - 0.2999999999999999·x²\n",
      "6.600000000000004 - 2.800000000000003·x¹ + 0.3000000000000005·x²\n"
     ]
    },
    {
     "data": {
      "image/png": "[encoded data removed]",
      "text/plain": [
       "<Figure size 432x288 with 1 Axes>"
      ]
     },
     "metadata": {
      "needs_background": "light"
     },
     "output_type": "display_data"
    }
   ],
   "source": [
    "\n",
    "\n",
    "spline_coeffs = np.array([[0, 0, 1, 0, 0, 0, 0, 0, 0, 0, 0, 0],\n",
    "                            [1, 1, 1, 0, 0, 0, 0, 0, 0, 0, 0, 0],\n",
    "                            [0, 0, 0, 1, 1, 1, 0, 0, 0, 0, 0, 0],\n",
    "                            [0, 0, 0, 9, 3, 1, 0, 0, 0, 0, 0, 0],\n",
    "                            [0, 0, 0, 0, 0, 0, 9, 3, 1, 0, 0, 0],\n",
    "                            [0, 0, 0, 0, 0, 0, 16, 4, 1, 0, 0, 0],\n",
    "                            [0, 0, 0, 0, 0, 0, 0, 0, 0, 16, 4, 1],\n",
    "                            [0, 0, 0, 0, 0, 0, 0, 0, 0, 25, 5, 1],\n",
    "                            [2, 1, 0, -2, -1, 0, 0, 0, 0, 0, 0, 0],\n",
    "                            [0, 0, 0, 6, 1, 0, -6, -1, 0, 0, 0, 0],\n",
    "                            [0, 0, 0, 0, 0, 0, 8, 1, 0, -8, -1, 0],\n",
    "                            [1, 0, 0, 0, 0, 0, 0, 0, 0, 0, 0, 0]])\n",
    "\n",
    "values = np.array([0.5, 0.3, 0.3, 0.3, 0.3, 0.2, 0.2, 0.1, 0, 0, 0, 0])\n",
    "\n",
    "solution = (np.linalg.inv(spline_coeffs)).dot(values)\n",
    "\n",
    "print(solution)\n",
    "\n",
    "spline_1 = solution[0:3]\n",
    "spline_2 = solution[3:6]\n",
    "spline_3 = solution[6:9]\n",
    "spline_4 = solution[9:12]\n",
    "\n",
    "splines = [spline_1, spline_2, spline_3, spline_4]\n",
    "# print(spline_1)\n",
    "# print(spline_2)\n",
    "# print(spline_3)\n",
    "# print(spline_4)\n",
    "\n",
    "poly_1 = np.polynomial.Polynomial(spline_1[::-1])\n",
    "print(poly_1)\n",
    "poly_2 = np.polynomial.Polynomial(spline_2[::-1])\n",
    "print(poly_2)\n",
    "poly_3 = np.polynomial.Polynomial(spline_3[::-1])\n",
    "print(poly_3)\n",
    "poly_4 = np.polynomial.Polynomial(spline_4[::-1])\n",
    "print(poly_4)\n",
    "               \n",
    "polys = [poly_1, poly_2, poly_3, poly_4]\n",
    "    \n",
    "for i in range(0, 4):\n",
    "    t = np.linspace(x[i], x[i + 1], 100)\n",
    "    plt.plot(t, polys[i](t), '-', x, f, 'o')"
   ]
  },
  {
   "cell_type": "markdown",
   "id": "94fdea2f",
   "metadata": {},
   "source": [
    "### Получилась пушечка после 4 часов отгадывания, как это запрогать, все же не запрогал и руками посчитал. Теперь вычислим производную в точке 5 и, очевидно, получим совершенно другое значение"
   ]
  },
  {
   "cell_type": "code",
   "execution_count": 164,
   "id": "029ef34a",
   "metadata": {},
   "outputs": [
    {
     "name": "stdout",
     "output_type": "stream",
     "text": [
      "0.20000000000000195\n"
     ]
    }
   ],
   "source": [
    "derivative_with_spline = np.polynomial.Polynomial.deriv(poly_4)(point)\n",
    "print(derivative_with_spline)"
   ]
  },
  {
   "cell_type": "markdown",
   "id": "66fa9008",
   "metadata": {},
   "source": [
    "## Сравнение с питоновской интерполяцией"
   ]
  },
  {
   "cell_type": "code",
   "execution_count": 173,
   "id": "7f5d3e06",
   "metadata": {},
   "outputs": [
    {
     "name": "stdout",
     "output_type": "stream",
     "text": [
      "<scipy.interpolate.interpolate.interp1d object at 0x7ff792d44950>\n"
     ]
    },
    {
     "data": {
      "text/plain": [
       "[<matplotlib.lines.Line2D at 0x7ff793b710a0>,\n",
       " <matplotlib.lines.Line2D at 0x7ff793b71610>]"
      ]
     },
     "execution_count": 173,
     "metadata": {},
     "output_type": "execute_result"
    },
    {
     "data": {
      "image/png": "[encoded data removed]",
      "text/plain": [
       "<Figure size 432x288 with 1 Axes>"
      ]
     },
     "metadata": {
      "needs_background": "light"
     },
     "output_type": "display_data"
    }
   ],
   "source": [
    "canonical_interpolation = interpolate.interp1d(x, f, kind = 'quadratic')\n",
    "print(canonical_interpolation)\n",
    "\n",
    "xnew = np.linspace(0, 5, num=41, endpoint=True)\n",
    "plt.plot(x, f, 'o', xnew, canonical_interpolation(xnew), '-')"
   ]
  },
  {
   "cell_type": "markdown",
   "id": "f7141b4a",
   "metadata": {},
   "source": [
    "# 4) Обсуждение результатов"
   ]
  },
  {
   "cell_type": "markdown",
   "id": "c5fabc2a",
   "metadata": {},
   "source": [
    "В случае глобальной интерполяции многочленом Ньютона, производная немного отличается по сравнению с методом неопределенных коэффициентов, а в случае в интерполяцией локальной квадратичными сплайнами значение производной еще и поменяло знак. Связано это с тем, что при локальнок интерполяции мы точнее определяем полиномы, задающие функцию на каждом отдельном отрезке."
   ]
  }
 ],
 "metadata": {
  "kernelspec": {
   "display_name": "Python 3 (ipykernel)",
   "language": "python",
   "name": "python3"
  },
  "language_info": {
   "codemirror_mode": {
    "name": "ipython",
    "version": 3
   },
   "file_extension": ".py",
   "mimetype": "text/x-python",
   "name": "python",
   "nbconvert_exporter": "python",
   "pygments_lexer": "ipython3",
   "version": "3.9.5"
  }
 },
 "nbformat": 4,
 "nbformat_minor": 5
}
